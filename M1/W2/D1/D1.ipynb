{
 "cells": [
  {
   "cell_type": "markdown",
   "id": "1ad9393e",
   "metadata": {},
   "source": [
    "## Idee chiave\n",
    "\n",
    "* **Non esiste il “template magico” del GDD.** La documentazione è un’ipotesi che invecchia appena la scrivi; vale solo dopo che l’hai messa alla prova.\n",
    "* **Regola del loop.** Più iteri (test → aggiusta → ritesta), migliore diventa il design.\n",
    "* **Perché documentare?**\n",
    "\n",
    "  * **Memoria:** per non perdere decisioni e ragionamenti.\n",
    "  * **Comunicazione:** per allineare il team e far emergere problemi/soluzioni.\n",
    "\n",
    "## Mappa dei documenti (per funzione)\n",
    "\n",
    "* **Design**\n",
    "\n",
    "  * *Game Design Overview:* visione d’insieme, alto livello.\n",
    "  * *Game Design Document:* meccaniche, UI, flussi—dettaglio operativo.\n",
    "  * *Story Overview:* setting + personaggi/eventi principali (breve).\n",
    "* **Programmazione**\n",
    "\n",
    "  * *Technical Design Document:* architettura tecnica, moduli, API.\n",
    "  * *Pipeline Overview:* formati asset, passaggi, responsabilità.\n",
    "  * *System Limitations:* vincoli hard (budget CPU/GPU, poligoni, memoria).\n",
    "* **Arte**\n",
    "\n",
    "  * *Art Bible:* linee guida visive (stile, palette, proporzioni).\n",
    "  * *Concept Art Overview:* immagini chiave a supporto.\n",
    "* **Produzione**\n",
    "\n",
    "  * *Game Budget:* stima costi/risorse.\n",
    "  * *Asset Tracker:* stato degli asset e dipendenze tra reparti.\n",
    "  * *Project Schedule:* task e milestone, aggiornato spesso.\n",
    "* **Narrativa**\n",
    "\n",
    "  * *Story Bible:* regole dell’universo narrativo.\n",
    "  * *Script:* dialoghi.\n"
   ]
  }
 ],
 "metadata": {
  "language_info": {
   "name": "python"
  }
 },
 "nbformat": 4,
 "nbformat_minor": 5
}
