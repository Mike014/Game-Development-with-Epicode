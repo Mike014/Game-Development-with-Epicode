{
 "cells": [
  {
   "cell_type": "markdown",
   "id": "6f479799",
   "metadata": {},
   "source": [
    "- **Game Design** – Progettazione creativa e sistemica di un gioco: decide cosa fa il giocatore, come reagisce il sistema e che esperienza/emozione ne nasce.\n",
    "- **Game Design Document** - Documento che descrive in dettaglio come funziona un gioco.\n",
    "- **Game Designer** – Chi struttura regole e interazioni per guidare azioni, pensieri ed emozioni del giocatore.\n",
    "- **Ascoltare** – Skill chiave: recepire feedback di team, pubblico, gioco, cliente e di sé stessi per iterare meglio.\n",
    "- **Obiettivi** – Scopi misurabili che danno direzione e criteri di successo/fallimento.\n",
    "- **Regole** – Ciò che è permesso/vietato e come cambia lo stato del gioco.\n",
    "- **Operational Rules** – Regole \"di superficie\": ciò che i giocatori fanno concretamente (turni, azioni, costi).\n",
    "- **Foundational/Constitutive Rules** – Struttura formale sottostante (logiche, formule, probabilità, economie).\n",
    "- **Behavioral Rules** – Norme di comportamento implicite (fair play, non barare).\n",
    "- **Written Rules** – Regolamento esplicito comunicato ai giocatori.\n",
    "- **Laws** – Regole per il competitivo (proprietà, sanzioni, correzioni).\n",
    "- **Official Rules** – Regole \"ufficializzate\" da un'autorità/organizzatore.\n",
    "- **Advisory Rules** – Linee guida/strategie consigliate.\n",
    "- **House Rules** – Modifiche locali al regolamento condivise da un gruppo.\n",
    "- **Feedback** – Risposta del gioco alle azioni del giocatore (immediato o differito).\n",
    "- **Feedback diegetico** – Segnali interni al mondo di gioco (animazioni, reazioni degli oggetti).\n",
    "- **Feedback non diegetico** – Segnali \"di interfaccia\" (HUD, numeri, suoni UI).\n",
    "- **Game Loop** - Ciclo di azioni che il giocatore ripete di continuo durante il gameplay. **Core Loop**, loop principale, **Secondary Loop**, arrichisce il Core Loop. \n",
    "- **Decisioni (significative)** – Scelte con trade-off reali, conseguenze percepibili e un minimo di incertezza gestibile.\n",
    "- **MDA** – Cornice che collega **Mechanics → Dynamics → Aesthetics** (e viceversa dal punto di vista del giocatore).\n",
    "- **Mechanics (Meccaniche)** – Regole, dati, azioni, algoritmi, risorse, RNG, layout: gli elementi manipolabili dal designer.\n",
    "- **Dynamics (Dinamiche)** – Comportamenti che emergono in runtime dalle meccaniche e dagli input dei giocatori.\n",
    "- **Aesthetics (Estetiche)** – Esperienze/emozioni desiderate nel giocatore.\n",
    "- **8 Kinds of Fun** – Tipi ricorrenti di estetiche: Sensation, Fantasy, Narrative, Challenge, Fellowship, Discovery, Expression, Submission.\n",
    "- **Space (Spazio di gioco)** – Dove avviene il gioco: struttura spaziale che influenza movimento, controllo e leggibilità.\n",
    "- **Spazio discreto** – Suddiviso in unità (celle/griglie/caselle).\n",
    "- **Spazio continuo** – Fluido, senza divisioni nette.\n",
    "- **Aree connesse/non connesse** – Topologia degli spazi e loro collegamenti.\n",
    "- **Objects (Oggetti)** – Tutto ciò che è manipolabile/rilevante: personaggi, props, token, punteggi.\n",
    "- **Attributes (Attributi)** – Categorie di informazioni di un oggetto (es. Health, Speed).\n",
    "- **Current State (Stato corrente)** – Valore attuale di un attributo (es. Speed = 78 km/h).\n",
    "- **FSM (Macchina a stati finiti)** – Modello per stati e transizioni (es. fantasmi di Pac-Man: chase/scatter/frightened/eyes).\n",
    "- **Actions (Azioni)** – Cosa può fare il giocatore.\n",
    "- **Basic Actions** – Azioni base sempre disponibili (muovere, saltare, pescare).\n",
    "- **Strategic Actions** – Azioni che acquisiscono senso rispetto all'obiettivo (bluff, posizionamento, bait).\n",
    "- **(Real) Skill** – Abilità reali del giocatore (fisiche, mentali, sociali) che influenzano l'esito.\n",
    "- **Chance (Alea)** – Caso/incertezza introdotta dal sistema (dadi, pesca carte, drop).\n",
    "- **RNG (Random Number Generation)** – Meccanismo/seed che governa l'alea.\n",
    "- **Agency** – Sensazione di controllo: capire cosa posso fare e perché conta.\n",
    "- **Risk/Reward** – Bilanciamento rischio-ricompensa che struttura le scelte.\n",
    "- **Loop positivo (Snowball)** – Vantaggio che si auto-alimenta, aumentando il distacco.\n",
    "- **Loop negativo (Rubber banding)** – Meccanismi che riavvicinano chi è indietro.\n",
    "- **Pacing** – Ritmo percepito del gioco (tempo medio delle azioni/progressi).\n",
    "- **Playtest** – Prova con giocatori per osservare dinamiche e feedback reali.\n",
    "- **Tuning** – Ritocco iterativo di numeri/regole per allineare dinamiche all'estetica target.\n",
    "- **Trade-off** – Rinunce necessarie per ottenere un vantaggio alternativo.\n",
    "- **Telegraphing** – Informazioni preparatorie che rendono leggibili rischi/effetti di un'azione.\n",
    "- **Sistema di Gioco** - Insieme di regole, oggetti, spazi, azioni, attributi e feedback che interagiscono tra loro per generare dinamiche e produrre un’esperienza (le estetiche) nel giocatore."
   ]
  },
  {
   "cell_type": "markdown",
   "id": "715f4d2a",
   "metadata": {},
   "source": []
  }
 ],
 "metadata": {
  "language_info": {
   "name": "python"
  }
 },
 "nbformat": 4,
 "nbformat_minor": 5
}
