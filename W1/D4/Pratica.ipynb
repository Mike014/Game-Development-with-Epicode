{
 "cells": [
  {
   "cell_type": "markdown",
   "id": "2383c0ec",
   "metadata": {},
   "source": [
    "# *Tris al Contrario — Flip + Passa-Punto*\n",
    "\n",
    "Si gioca sulla solita **griglia 3×3**; i **turni sono alternati**, ma ogni giocatore **cambia simbolo a ogni propria mossa** *(A: X→O→X…, B: O→X→O…)*. Se nel tuo turno completi un tris, **il punto non va a te ma all’avversario** (o al giocatore successivo se si gioca in 3–4) e il round finisce. \n",
    "**Si giocano più round e perde chi accumula più punti**; in alternativa, chi regala 3 punti per primo perde. \n",
    "Se la griglia si riempie senza tris, zero punti e nuovo round.\n",
    "\n",
    "Questa singola modifica crea una dinamica **patata bollente**: costruisci minacce che obblighino l’altro, con **il simbolo che dovrà giocare nel suo prossimo turno**, a chiudere la linea e quindi a regalarti il punto. La lettura chiave diventa sempre **qual è il prossimo simbolo dell’avversario?** il centro resta forte, ma gli angoli possono diventare trappole. \n",
    "Esempio: A mette X al centro, B mette O a un angolo, A ora deve mettere O; se prepara una linea che il turno dopo richiede **X**, B sarà costretto a chiuderla con X e passerà il punto.\n",
    "\n",
    "**L’effetto estetico atteso è più tensione e meno pareggi banali**. Per il playtest, controlla quante partite finiscono per “hand-off” (punto passato), la durata media dei round e l’equità del primo turno; se serve bilanciare, alterna chi inizia i round.\n",
    "\n"
   ]
  }
 ],
 "metadata": {
  "kernelspec": {
   "display_name": "ai_env",
   "language": "python",
   "name": "python3"
  },
  "language_info": {
   "codemirror_mode": {
    "name": "ipython",
    "version": 3
   },
   "file_extension": ".py",
   "mimetype": "text/x-python",
   "name": "python",
   "nbconvert_exporter": "python",
   "pygments_lexer": "ipython3",
   "version": "3.10.16"
  }
 },
 "nbformat": 4,
 "nbformat_minor": 5
}
