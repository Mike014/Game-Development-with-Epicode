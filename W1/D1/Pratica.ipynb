{
 "cells": [
  {
   "cell_type": "markdown",
   "id": "4831f130",
   "metadata": {},
   "source": [
    "# Laboratorio 1 — Pratica (Breve recap concettuale)\n",
    "\n",
    "**Esercizio:**\n",
    "Immagina un personaggio per un sistema di gioco con combattimento a turni, descrivendolo attraverso:\n",
    "\n",
    "1. **5 Attributes (Attributi)**\n",
    "\n",
    "   * Gli attributi sono le **caratteristiche numeriche o qualitative** che descrivono un personaggio.\n",
    "   * Esempio: punti vita, forza, difesa, velocità, mana.\n",
    "   * Servono a stabilire le capacità di base del personaggio e a determinare come interagisce con il sistema di gioco.\n",
    "\n",
    "2. **Definizioni degli States (Stati) di quegli attributi**\n",
    "\n",
    "   * Ogni attributo può trovarsi in uno **stato specifico** in un dato momento.\n",
    "   * Lo “stato” è il **valore corrente** o la condizione attuale dell’attributo.\n",
    "   * Esempio: “Punti vita = 50/100” oppure “Stato = avvelenato”.\n",
    "   * Serve per capire se un attributo è alto, basso, normale, potenziato o compromesso.\n",
    "\n",
    "3. **5 Actions (Azioni)**\n",
    "\n",
    "   * Le azioni sono le **mosse o scelte** che il personaggio può compiere durante il turno.\n",
    "   * Ogni azione utilizza o modifica gli attributi (ad esempio spendere mana, ridurre i punti vita di un avversario).\n",
    "   * Esempio: attacco base, difesa, incantesimo, oggetto, fuga.\n",
    "   * Le azioni definiscono la **strategia** del giocatore e determinano come il personaggio partecipa al combattimento."
   ]
  },
  {
   "cell_type": "markdown",
   "id": "74cbfbec",
   "metadata": {},
   "source": [
    "---\n"
   ]
  },
  {
   "cell_type": "markdown",
   "id": "e21fbec4",
   "metadata": {},
   "source": [
    "## **Il mio personaggio**\n",
    "\n",
    "### **Attributes**\n",
    "   1. **Sanità**\n",
    "   Indica quanto la mente del personaggio è lucida oppure confusa.\n",
    "\n",
    "   2. **Memoria**\n",
    "   Misura quanto il personaggio riesce a ricordare del suo passato e delle sue esperienze.\n",
    "\n",
    " 3. **Controllo**\n",
    "   Rappresenta la capacità del personaggio di decidere e guidare le proprie azioni.\n",
    "\n",
    " 4. **Legame**\n",
    "   Indica quanto il personaggio si sente connesso a qualcuno o a qualcosa che lo sostiene.\n",
    "\n",
    " 5. **Ombra**\n",
    "   È la parte nascosta e oscura che cresce dentro di lui, e che può prendere forza nel tempo.\n",
    "\n",
    "---\n",
    "\n",
    "# States del Personaggio\n",
    "\n",
    "1. **Parte lucida**\n",
    "\n",
    "   * Significa che il personaggio mantiene stabilità e protezione.\n",
    "   * Qui prevalgono **Sanità, Memoria e Controllo**.\n",
    "   * Le sue azioni sono guidate dalla lucidità e da un legame forte.\n",
    "\n",
    "2. **Parte oscura**\n",
    "\n",
    "   * È quando il personaggio è dominato dall’**Ombra**.\n",
    "   * La mente perde chiarezza, il legame si spezza, le scelte sono spinte dalla parte più oscura.\n",
    "\n",
    "3. **Parte frammentata**\n",
    "\n",
    "   * È lo stato instabile, a metà strada.\n",
    "   * Nessun attributo prevale del tutto.\n",
    "   * Il personaggio oscilla tra lucidità e ombra, senza equilibrio.\n",
    "\n",
    "---\n",
    "\n",
    "# Come si definiscono gli States\n",
    "\n",
    "Gli states **non sono scelti direttamente**, ma si formano in base a:\n",
    "\n",
    "* **Le azioni morali** → cosa decide di fare (proteggere, ignorare, distruggere, affidarsi, cedere).\n",
    "* **L’equilibrio degli attributi** → quale valore cresce o cala dopo ogni scelta.\n",
    "\n",
    "Quindi:\n",
    "\n",
    "* Azioni che rafforzano Sanità, Memoria e Controllo → avvicinano alla **Parte lucida**.\n",
    "* Azioni che alimentano Ombra → spingono verso la **Parte oscura**.\n",
    "* Azioni ambigue o contraddittorie → mantengono la **Parte frammentata**.\n",
    "\n",
    "---"
   ]
  },
  {
   "cell_type": "markdown",
   "id": "0fb2be2d",
   "metadata": {},
   "source": [
    "---\n",
    "\n",
    "# 5 Azioni del Personaggio\n",
    "\n",
    "1. **Azione benevola** → rafforza Sanità, Memoria, Controllo → converge in **Parte lucida**.\n",
    "2. **Azione malevola** → alimenta Ombra, indebolisce Legame → converge in **Parte oscura**.\n",
    "3. **Azione ambigua** → scelte contraddittorie, senza direzione → mantiene **Parte frammentata**.\n",
    "4. **Azione morale relativa** → positiva per alcuni, negativa per altri → converge in **lucida o oscura** secondo il contesto.\n",
    "5. **Azione di rinuncia** → non agire/ignorare → mantiene **Parte frammentata**, ma col tempo può scivolare verso l’oscura.\n",
    "\n",
    "---\n",
    "\n",
    "\n"
   ]
  },
  {
   "cell_type": "markdown",
   "id": "91a9ddda",
   "metadata": {},
   "source": [
    "<img src=\"My-Character.png\" alt=\"My-Character\" title=\"My-Character\" width=\"800\">"
   ]
  },
  {
   "cell_type": "markdown",
   "id": "aa117532",
   "metadata": {},
   "source": [
    "Immagina un **gioco a turni ambientato in una città grigia e alienante**, fatta di luci al neon e strade che sembrano vive ma vuote. \n",
    "- **Il protagonista non è un eroe tradizionale**: è un individuo instabile, frammentato, che si muove tra realtà e allucinazione. \n",
    "- **I nemici che affronta non sono semplici avversari, ma riflessi della sua mente**, figure astratte che assumono forme umane, digitali o mostruose. A volte combatte contro presenze oscure che rappresentano la sua Ombra, altre volte contro versioni distorte di sé stesso.\n",
    "- **Ogni turno non è un gesto fisico, ma una scelta morale**. Il giocatore può compiere azioni benevole che rafforzano lucidità e legame, azioni malevole che nutrono l’ombra, oppure restare nel mezzo con scelte ambigue che mantengono la frattura interiore. Alcune azioni hanno un valore doppio: morali per alcuni, distruttive per altri, e altre ancora sono scelte di rinuncia, in cui il non agire diventa comunque un atto che lascia spazio all’oscurità.\n",
    "- **Il cuore del sistema non è ridurre i punti vita di un avversario, ma osservare come queste decisioni cambiano il protagonista**: turno dopo turno, i suoi attributi oscillano tra stabilità, frammentazione e dominio dell’Ombra. La vittoria o la sconfitta non sono definite da un punteggio, ma da quale parte della sua identità riuscirà a emergere alla fine dello scontro.\n",
    "\n",
    "È un combattimento a turni che prende la forma di un conflitto urbano e psicologico, in cui il nemico esterno è sempre anche interno, e ogni scelta del giocatore diventa un frammento di verità su chi il protagonista sia davvero.\n",
    "\n",
    "\n"
   ]
  }
 ],
 "metadata": {
  "kernelspec": {
   "display_name": "ai_env",
   "language": "python",
   "name": "python3"
  },
  "language_info": {
   "codemirror_mode": {
    "name": "ipython",
    "version": 3
   },
   "file_extension": ".py",
   "mimetype": "text/x-python",
   "name": "python",
   "nbconvert_exporter": "python",
   "pygments_lexer": "ipython3",
   "version": "3.10.16"
  }
 },
 "nbformat": 4,
 "nbformat_minor": 5
}
