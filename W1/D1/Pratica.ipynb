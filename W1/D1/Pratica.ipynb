{
 "cells": [
  {
   "cell_type": "markdown",
   "id": "4831f130",
   "metadata": {},
   "source": [
    "# Laboratorio 1 — Pratica (Breve recap concettuale)\n",
    "\n",
    "**Esercizio:**\n",
    "Immagina un personaggio per un sistema di gioco con combattimento a turni, descrivendolo attraverso:\n",
    "\n",
    "1. **5 Attributes (Attributi)**\n",
    "\n",
    "   * Gli attributi sono le **caratteristiche numeriche o qualitative** che descrivono un personaggio.\n",
    "   * Esempio: punti vita, forza, difesa, velocità, mana.\n",
    "   * Servono a stabilire le capacità di base del personaggio e a determinare come interagisce con il sistema di gioco.\n",
    "\n",
    "2. **Definizioni degli States (Stati) di quegli attributi**\n",
    "\n",
    "   * Ogni attributo può trovarsi in uno **stato specifico** in un dato momento.\n",
    "   * Lo “stato” è il **valore corrente** o la condizione attuale dell’attributo.\n",
    "   * Esempio: “Punti vita = 50/100” oppure “Stato = avvelenato”.\n",
    "   * Serve per capire se un attributo è alto, basso, normale, potenziato o compromesso.\n",
    "\n",
    "3. **5 Actions (Azioni)**\n",
    "\n",
    "   * Le azioni sono le **mosse o scelte** che il personaggio può compiere durante il turno.\n",
    "   * Ogni azione utilizza o modifica gli attributi (ad esempio spendere mana, ridurre i punti vita di un avversario).\n",
    "   * Esempio: attacco base, difesa, incantesimo, oggetto, fuga.\n",
    "   * Le azioni definiscono la **strategia** del giocatore e determinano come il personaggio partecipa al combattimento."
   ]
  },
  {
   "cell_type": "markdown",
   "id": "74cbfbec",
   "metadata": {},
   "source": [
    "---\n"
   ]
  },
  {
   "cell_type": "markdown",
   "id": "e21fbec4",
   "metadata": {},
   "source": [
    "## **Il mio personaggio**\n",
    "\n",
    "### **Attributes**\n",
    "   1. **Sanità**\n",
    "   Indica quanto la mente del personaggio è lucida oppure confusa.\n",
    "\n",
    "   2. **Memoria**\n",
    "   Misura quanto il personaggio riesce a ricordare del suo passato e delle sue esperienze.\n",
    "\n",
    " 3. **Controllo**\n",
    "   Rappresenta la capacità del personaggio di decidere e guidare le proprie azioni.\n",
    "\n",
    " 4. **Legame**\n",
    "   Indica quanto il personaggio si sente connesso a qualcuno o a qualcosa che lo sostiene.\n",
    "\n",
    " 5. **Ombra**\n",
    "   È la parte nascosta e oscura che cresce dentro di lui, e che può prendere forza nel tempo.\n",
    "\n",
    "\n",
    "\n",
    "---\n",
    "\n",
    "\n",
    "\n",
    "---\n",
    "\n"
   ]
  }
 ],
 "metadata": {
  "language_info": {
   "name": "python"
  }
 },
 "nbformat": 4,
 "nbformat_minor": 5
}
