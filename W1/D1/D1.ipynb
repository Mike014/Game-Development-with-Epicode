{
 "cells": [
  {
   "cell_type": "markdown",
   "id": "249d3adc",
   "metadata": {},
   "source": [
    "# **Fondamenti di Game Design**"
   ]
  }
 ],
 "metadata": {
  "language_info": {
   "name": "python"
  }
 },
 "nbformat": 4,
 "nbformat_minor": 5
}
