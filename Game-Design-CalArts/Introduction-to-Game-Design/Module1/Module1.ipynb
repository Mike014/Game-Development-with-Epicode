{
 "cells": [
  {
   "cell_type": "markdown",
   "id": "fc99b49c",
   "metadata": {},
   "source": [
    "# **Introduction of Game Design**"
   ]
  },
  {
   "cell_type": "markdown",
   "id": "d29dff0b",
   "metadata": {},
   "source": [
    "## **Elements of Gaming**\n",
    "\n",
    "I **giochi semplici** contano perché mostrano chiaramente come funziona il game design. Anche quelli molto antichi, se hanno ancora successo, è perché sono ben progettati.  \n",
    "\n",
    "**Un buon gioco ha sempre un obiettivo chiaro**. La **difficoltà** deve crescere man mano che si gioca, così la sfida resta interessante. La parte centrale del design sta proprio nell’**aggiungere ostacoli al raggiungimento del goal**, senza renderlo impossibile.  \n",
    "\n",
    "Se un gioco è troppo facile diventa noioso, se è troppo difficile frustra. **Il segreto è trovare un equilibrio che tenga il giocatore motivato**.  \n",
    "\n",
    "Ogni gioco mescola **caso e abilità** in proporzioni diverse. Nei giochi di pura fortuna, come la lotteria, la pratica non serve. Nei giochi di sola abilità, come gli scacchi, la pratica è tutto. In molti titoli, però, i due elementi convivono: le carte si basano sulla casualità del mazzo ma anche sulla strategia del giocatore, e Tetris unisce la casualità dei pezzi all’abilità di incastrarli.  \n",
    "\n",
    "In sintesi, ciò che rende un gioco interessante è la combinazione di:\n",
    "- un **obiettivo chiaro**, \n",
    "- una **difficoltà crescente**, \n",
    "- un **buon equilibrio tra sfida e divertimento**, \n",
    "- e la giusta **miscela di caso e abilità**.  \n",
    "\n"
   ]
  },
  {
   "cell_type": "markdown",
   "id": "38ad6c42",
   "metadata": {},
   "source": [
    "## **Game Design Document (GDD)**\n",
    "\n",
    "Il **Game Design Document (GDD)** è uno strumento fondamentale per chi crea videogiochi. Si tratta di un documento che descrive in dettaglio come funziona un gioco. Non esiste un formato unico, perché dipende dal designer, dal tipo di gioco e dal team di lavoro. Tuttavia, ci sono elementi che compaiono quasi sempre:  \n",
    "\n",
    "1. **Descrizione del gioco** → spiegazione generale di cosa tratta.  \n",
    "2. **Gameplay** → come si gioca, quali sono le regole e le meccaniche.  \n",
    "3. **Obiettivi, puzzle e personaggi** → chiariscono la struttura narrativa e ludica.  \n",
    "4. **Materiale visivo** → illustrazioni, mappe, storie o scenari.  \n",
    "5. **Parte tecnica** → eventuali dettagli di programmazione e produzione.  \n",
    "\n",
    "Il GDD funziona come un vero e proprio libro che chiarisce il funzionamento del gioco.  \n",
    "\n",
    "### Perché è importante\n",
    "- In un’azienda moderna ci possono essere **centinaia di persone** che lavorano allo stesso titolo. Il GDD garantisce che tutti abbiano un riferimento unico.  \n",
    "- Viene **aggiornato di continuo**, perché durante lo sviluppo ci sono cambiamenti di storia, meccaniche, grafica e codice.  \n",
    "- Anche per un **game designer solitario** è utile: diventa un quaderno di idee, un promemoria delle intenzioni iniziali e una guida per non perdersi durante il processo creativo.  \n",
    "\n",
    "### Quind?\n",
    "Il Game Design Document non è solo un manuale tecnico, ma un **punto di riferimento creativo e organizzativo**. Serve a **comunicare idee**, mantenere il progetto coerente e accompagnare lo sviluppo dal primo concetto fino alla fase finale. Nel corso di studio, l’obiettivo sarà imparare a renderlo più ricco, creativo e divertente da consultare.  \n",
    "\n"
   ]
  },
  {
   "cell_type": "markdown",
   "id": "a58d3ae7",
   "metadata": {},
   "source": [
    "## **Feedback in Game Design**\n",
    "\n",
    "In questa lezione si introduce il concetto di **feedback**.  \n",
    "\n",
    "L’esempio iniziale è un gioco molto semplice: una linea retta in cui il giocatore parte dal basso e avanza di uno spazio per turno fino alla fine. Un amico commenta dicendo che il gioco è \"brutto\". Questo tipo di osservazione non è utile, perché non spiega il motivo e non offre spunti per migliorare.  \n",
    "\n",
    "Un feedback diventa costruttivo solo quando chiarisce il **perché** di un giudizio. Dire che il gioco è \"noioso\" aiuta di più, perché individua il problema principale. A quel punto il designer può intervenire: aggiungere un **goal più interessante** (esploratore in una foresta che cerca un tesoro), introdurre il **caso** (un dado che decide i movimenti) o aggiungere **abilità** (trasformare il percorso in un labirinto). Con questi cambiamenti, il gioco diventa più coinvolgente.  \n",
    "\n",
    "Un altro punto importante è la **cortesia**. Fare commenti offensivi non porta benefici né al designer né al revisore. È meglio seguire un processo semplice:  \n",
    "1. Osservare il progetto.  \n",
    "2. Capire come ci fa sentire.  \n",
    "3. Chiedersi il perché.  \n",
    "4. Condividere pensieri e ragioni in modo chiaro e gentile.  \n",
    "\n",
    "Con questo approccio, il feedback diventa un’occasione di crescita sia per chi riceve che per chi dà la valutazione.  \n"
   ]
  }
 ],
 "metadata": {
  "kernelspec": {
   "display_name": "ai_env",
   "language": "python",
   "name": "python3"
  },
  "language_info": {
   "name": "python",
   "version": "3.10.16"
  }
 },
 "nbformat": 4,
 "nbformat_minor": 5
}
