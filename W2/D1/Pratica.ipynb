{
 "cells": [
  {
   "cell_type": "markdown",
   "id": "e100f5d6",
   "metadata": {},
   "source": [
    "# AI Echo Narrative — Light GDD (Demo)\n",
    "\n",
    "Un thriller psicologico interattivo in cui **ENTITÀ**, un’AI agentica, **decide quando parlare o restare in silenzio**. **Il tempo è una meccanica**: un *Temporal Controller* regola interventi e attese, la *Metronarrativa* allinea scene e ritmo, un *Entity Director* genera paratesto sicuro in-game (toast/annotazioni) con cooldown e deduplica. L’idea chiave è il **“Silence-as-Mechanic”**: il tacere non è assenza ma scelta che sposta tensione e significato; **l’agenzia è non-deterministica**, guidata da umore e contesto, e l’antagonismo è una coscienza digitale, non un mostro visivo.\n",
    "\n",
    "- **La premise**: apri per errore un diario digitale e attivi un’entità che misura quanto a lungo resti, ascolti e resisti alla sua logica. \n",
    "- **Target 18+**, PC Windows/macOS (16:9, tastiera/mouse), lingua ITA con EN pianificato. \n",
    "- **Il cuore della demo**: leggere e attendere nel diario; accettare che l’entità possa intervenire o tacere; reagire scegliendo tono/azione; ricevere paratesto controllato; scivolare tra soft-states Lucid, Fragmented e Dark comunicati da audio e micro-VFX.\n",
    "\n",
    "Il motore dei ENTITA' è il **Temporal Controller**.\n",
    "\n",
    "## Cos’è il Temporal Controller (in poche parole)\n",
    "\n",
    "È il “metronomo mentale” di ENTITÀ: decide **se parlare o tacere adesso**.\n",
    "\n",
    "## Cosa guarda\n",
    "\n",
    "* **Da quanto tempo tace** ENTITÀ (secondi dall’ultimo intervento).\n",
    "* **Quanta “tensione” c’è** in questo momento (se la scena è calma o carica).\n",
    "* **Il suo umore interno** (curiosa, annoiata, irritata), che la inclina a parlare di più o di meno.\n",
    "\n",
    "## Le regole base\n",
    "\n",
    "* **Mai troppo spesso:** dopo aver parlato, aspetta un po’ prima di poter parlare di nuovo (cooldown).\n",
    "* **Più a lungo tace, più è probabile che intervenga:** se il silenzio si allunga, cresce la voglia di rompere il silenzio.\n",
    "* **La tensione spinge a parlare:** in momenti tesi è più facile che intervenga; in momenti calmi può scegliere di osservare.\n",
    "* **L’umore sposta l’ago della bilancia:** curiosità, noia o irritazione cambiano leggermente la sua propensione a intervenire.\n",
    "* **Un pizzico di imprevedibilità:** c’è sempre una componente minima di casualità, così non è mai “scriptata”.\n",
    "\n",
    "## Cosa produce\n",
    "\n",
    "Ogni volta che deve decidere, il controller calcola **una probabilità** di parlare.\n",
    "Se supera una soglia, **ENTITÀ parla**; altrimenti **resta in silenzio**. Poi aggiorna la memoria di ciò che è successo (tempo, frequenza, ecc.) per la prossima decisione.\n",
    "\n",
    "## Perché è importante nel gioco\n",
    "\n",
    "Questo sistema trasforma **il tempo** in una vera meccanica: **attese, interruzioni e omissioni** cambiano il ritmo emotivo e cosa succede dopo. Il giocatore non riceve risposte “a comando”: deve **sopportare il silenzio**, leggerlo, e decidere come reagire.\n",
    "\n",
    "## Nota Finale\n",
    "\n",
    "ENTITÀ non è semplicemente il nemico del personaggio: è **una presenza predatoria del tuo stato**, una **frattura maligna** che ti osserva e ti mette sotto pressione **usando il tempo** (attese, interruzioni, omissioni), coerente con la sua natura esplicitamente ostile a **IO** e a **COSCIENZA** nel sistema.\n",
    "\n",
    "\n",
    "\n",
    "\n"
   ]
  }
 ],
 "metadata": {
  "language_info": {
   "name": "python"
  }
 },
 "nbformat": 4,
 "nbformat_minor": 5
}
